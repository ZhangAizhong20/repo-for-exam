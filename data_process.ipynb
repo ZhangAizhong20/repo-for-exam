{
 "cells": [
  {
   "cell_type": "code",
   "execution_count": 1,
   "metadata": {},
   "outputs": [],
   "source": [
    "import pandas as pd\n",
    "data = pd.read_excel('data.xlsx')"
   ]
  },
  {
   "cell_type": "code",
   "execution_count": 4,
   "metadata": {},
   "outputs": [],
   "source": [
    "name_list = []\n",
    "date_list = []\n",
    "#按照顺序获取所有名字和日期\n",
    "for index , row in data.iterrows():\n",
    "    if row['Name'] not in name_list:\n",
    "        name_list.append(row['Name'])\n",
    "    if row['Date'] not in date_list:\n",
    "        date_list.append(row['Date'])"
   ]
  },
  {
   "cell_type": "code",
   "execution_count": 5,
   "metadata": {},
   "outputs": [],
   "source": [
    "#每一个人都要有每一个日期的值，若此日期没有则填充为0，因此提前构建字典，所有值均设置为0，后遍历datarame，对相应的值进行更改\n",
    "user_dic = {}\n",
    "every_user_dic_int = {}\n",
    "for date in date_list:\n",
    "    every_user_dic_int[date] = 0\n",
    "for name in name_list:\n",
    "    user_dic[name] = every_user_dic_int.copy() "
   ]
  },
  {
   "cell_type": "code",
   "execution_count": 6,
   "metadata": {},
   "outputs": [],
   "source": [
    "for index , row in data.iterrows():\n",
    "    user_dic[row['Name']][row['Date']] = row['Cost']#若类似于cost的属性较多需要整理则遍历colmnoms.values,目前只有一个Cost属性需要填充，因此此处进行简化    "
   ]
  },
  {
   "cell_type": "code",
   "execution_count": 10,
   "metadata": {},
   "outputs": [],
   "source": [
    "dic = {}\n",
    "dic['Codenew'] = []\n",
    "dic['Name'] = []\n",
    "Current_new_code = 2001\n",
    "for key in user_dic.keys():\n",
    "    dic['Codenew'].append(Current_new_code)\n",
    "    Current_new_code +=1 \n",
    "    dic['Name'].append(key)\n",
    "    for date in date_list:\n",
    "        date_string = date + 'Cost'\n",
    "        if date_string not in dic:\n",
    "            dic[date_string] = [user_dic[key][date]]\n",
    "        else: dic[date_string].append(user_dic[key][date])"
   ]
  },
  {
   "cell_type": "code",
   "execution_count": 11,
   "metadata": {},
   "outputs": [
    {
     "data": {
      "text/html": [
       "<div>\n",
       "<style scoped>\n",
       "    .dataframe tbody tr th:only-of-type {\n",
       "        vertical-align: middle;\n",
       "    }\n",
       "\n",
       "    .dataframe tbody tr th {\n",
       "        vertical-align: top;\n",
       "    }\n",
       "\n",
       "    .dataframe thead th {\n",
       "        text-align: right;\n",
       "    }\n",
       "</style>\n",
       "<table border=\"1\" class=\"dataframe\">\n",
       "  <thead>\n",
       "    <tr style=\"text-align: right;\">\n",
       "      <th></th>\n",
       "      <th>Codenew</th>\n",
       "      <th>Name</th>\n",
       "      <th>2018Q1Cost</th>\n",
       "      <th>2018Q2Cost</th>\n",
       "      <th>2018Q3Cost</th>\n",
       "      <th>2018Q4Cost</th>\n",
       "    </tr>\n",
       "  </thead>\n",
       "  <tbody>\n",
       "    <tr>\n",
       "      <th>0</th>\n",
       "      <td>2001</td>\n",
       "      <td>Kevin</td>\n",
       "      <td>202</td>\n",
       "      <td>320</td>\n",
       "      <td>159</td>\n",
       "      <td>0</td>\n",
       "    </tr>\n",
       "    <tr>\n",
       "      <th>1</th>\n",
       "      <td>2002</td>\n",
       "      <td>Tony</td>\n",
       "      <td>367</td>\n",
       "      <td>147</td>\n",
       "      <td>234</td>\n",
       "      <td>213</td>\n",
       "    </tr>\n",
       "    <tr>\n",
       "      <th>2</th>\n",
       "      <td>2003</td>\n",
       "      <td>Mary</td>\n",
       "      <td>402</td>\n",
       "      <td>302</td>\n",
       "      <td>0</td>\n",
       "      <td>289</td>\n",
       "    </tr>\n",
       "    <tr>\n",
       "      <th>3</th>\n",
       "      <td>2004</td>\n",
       "      <td>Lucy</td>\n",
       "      <td>0</td>\n",
       "      <td>0</td>\n",
       "      <td>217</td>\n",
       "      <td>110</td>\n",
       "    </tr>\n",
       "  </tbody>\n",
       "</table>\n",
       "</div>"
      ],
      "text/plain": [
       "   Codenew   Name  2018Q1Cost  2018Q2Cost  2018Q3Cost  2018Q4Cost\n",
       "0     2001  Kevin         202         320         159           0\n",
       "1     2002   Tony         367         147         234         213\n",
       "2     2003   Mary         402         302           0         289\n",
       "3     2004   Lucy           0           0         217         110"
      ]
     },
     "execution_count": 11,
     "metadata": {},
     "output_type": "execute_result"
    }
   ],
   "source": [
    "result = pd.DataFrame.from_dict(dic)\n",
    "result"
   ]
  }
 ],
 "metadata": {
  "kernelspec": {
   "display_name": "Python 3.9.6 64-bit",
   "language": "python",
   "name": "python3"
  },
  "language_info": {
   "codemirror_mode": {
    "name": "ipython",
    "version": 3
   },
   "file_extension": ".py",
   "mimetype": "text/x-python",
   "name": "python",
   "nbconvert_exporter": "python",
   "pygments_lexer": "ipython3",
   "version": "3.9.6"
  },
  "orig_nbformat": 4,
  "vscode": {
   "interpreter": {
    "hash": "fb8e8ff80c046c718bb3de2ce88d991e9f07975aaa06abacf2cc87d0c7636e70"
   }
  }
 },
 "nbformat": 4,
 "nbformat_minor": 2
}
